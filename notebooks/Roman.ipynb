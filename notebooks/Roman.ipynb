{
 "cells": [
  {
   "cell_type": "code",
   "execution_count": 1,
   "id": "1ca5f558",
   "metadata": {},
   "outputs": [
    {
     "name": "stdout",
     "output_type": "stream",
     "text": [
      "\n",
      "\n",
      "Welcome to the Spex Prism Library Analysis Toolkit (SPLAT)!\n",
      "If you make use of any features of this toolkit for your research, please remember to cite the SPLAT paper:\n",
      "\n",
      "Burgasser et al. (2017, Astro. Soc. India Conf. Series 14, p. 7); Bibcode: 2017ASInC..14....7B\n",
      "\n",
      "If you make use of any spectra or models in this toolkit, please remember to cite the original source.\n",
      "Please report any errors are feature requests to our github page, https://github.com/aburgasser/splat/\n",
      "\n",
      "\n"
     ]
    }
   ],
   "source": [
    "\n",
    "import numpy as np\n",
    "from astropy.io import fits, ascii\n",
    "from astropy.table import Table\n",
    "import pandas as pd\n",
    "import matplotlib.pyplot as plt\n",
    "import glob\n",
    "import splat\n",
    "from popsims.relations import polynomial_relation\n",
    "from splat.photometry import filterMag\n",
    "import splat.empirical as spe\n",
    "from tqdm import tqdm\n",
    "import popsims\n",
    "from popsims.plot_style import  plot_style\n",
    "from astropy.coordinates import SkyCoord, Galactic\n",
    "import astropy.units as u\n",
    "from matplotlib.lines import Line2D\n",
    "plot_style()\n",
    "%matplotlib inline"
   ]
  },
  {
   "cell_type": "code",
   "execution_count": null,
   "id": "3dc4ce6c",
   "metadata": {},
   "outputs": [],
   "source": [
    "SURVEY_AREAS= {\n",
    "       'Roman HLWAS': 2_000*u.degree**2,\n",
    "       'Roman HLTDS': 20*u.degree**2 ,\n",
    "}\n",
    "\n",
    "#filenames --> redo with grisms and right exposur times\n",
    "FILENAMES={'Rubin Wide': 'rubin_wide',  'Rubin 10 year': 'rubin_10year'}\n",
    "\n",
    "#add additional selection\n",
    "SURVEY_DEPTHS= {\n",
    "       'Roman HLWAS': {'WFI_J129': 26.7},\n",
    "       'Roman HLTDS': {'WFI_J129': 26.7},\n",
    "}\n",
    "\n",
    "\n",
    "linestyles={'thin disk': '-', 'thick disk': '-.', 'halo': 'dotted'}\n",
    "scl={'thin disk': 1, 'thick disk': 0.12, 'halo':0.005}\n",
    "\n",
    "\n",
    "selection0=\"WFI_Z087 < 27.0, WFI_Y016 < 27.0 and WFI_J129 < 27 and LSST_I< 24.0 and LSST_Z < 23.3 and LSST_Y < 22.1\"\n",
    "color_selection=\"rz>2 and gz>2 and zy >1\"\n",
    "proper_motion_cuts= 'proper_motion > 1 and parallax > 3'\n",
    "selection0=selection0+ 'and '+proper_motion_cuts\n",
    "selection= selection0+'and '+ color_selection \n",
    "selection10year= selection0+'and '+ color_selection \n"
   ]
  },
  {
   "cell_type": "code",
   "execution_count": 2,
   "id": "0a1e321c",
   "metadata": {},
   "outputs": [],
   "source": [
    "def compute_vols_and_numbers(data, population, selection=None):\n",
    "    \n",
    "    counts={}\n",
    "    pointings=list(data['volume'][population][0].keys())\n",
    "    drho=(AREA/len(data['footprint'])).to(u.radian**2)\n",
    "    sptgrid=data['sptgrid']\n",
    "    \n",
    "    for idx, spt in enumerate(sptgrid):\n",
    "        scale=[df.scale.mean(), df.scale_unc.mean(), df.scale_times_model.mean()]\n",
    "        sn= len(df)\n",
    "        \n",
    "        select='spt < {}'.format(spt, spt+0.9)\n",
    "        if selection !=None:\n",
    "            select= select+'and '+selection\n",
    "            \n",
    "        sn_c= len(df.query(select))\n",
    "        \n",
    "        val=sn_c*np.divide(scale[-1], sn) #fraction compared to local LF\n",
    "        \n",
    "        #compute selection correction by pointing\n",
    "        n=0.0\n",
    "        for p in pointings:\n",
    "            v=data['volume'][population][idx][p]*val*drho\n",
    "            n += v.value\n",
    "        cnts={'number': n}\n",
    "        counts.update({spt: cnts})\n",
    "    fn=pd.DataFrame.from_records(counts).T\n",
    "    fn['spt']=sptgrid\n",
    "    return fn\n"
   ]
  },
  {
   "cell_type": "code",
   "execution_count": null,
   "id": "c2868f2d",
   "metadata": {},
   "outputs": [],
   "source": []
  }
 ],
 "metadata": {
  "kernelspec": {
   "display_name": "Python 3 (ipykernel)",
   "language": "python",
   "name": "python3"
  },
  "language_info": {
   "codemirror_mode": {
    "name": "ipython",
    "version": 3
   },
   "file_extension": ".py",
   "mimetype": "text/x-python",
   "name": "python",
   "nbconvert_exporter": "python",
   "pygments_lexer": "ipython3",
   "version": "3.9.13"
  }
 },
 "nbformat": 4,
 "nbformat_minor": 5
}
