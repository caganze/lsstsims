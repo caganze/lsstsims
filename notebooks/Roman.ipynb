{
 "cells": [
  {
   "cell_type": "code",
   "execution_count": 1,
   "id": "1ca5f558",
   "metadata": {},
   "outputs": [
    {
     "name": "stdout",
     "output_type": "stream",
     "text": [
      "\n",
      "\n",
      "Welcome to the Spex Prism Library Analysis Toolkit (SPLAT)!\n",
      "If you make use of any features of this toolkit for your research, please remember to cite the SPLAT paper:\n",
      "\n",
      "Burgasser et al. (2017, Astro. Soc. India Conf. Series 14, p. 7); Bibcode: 2017ASInC..14....7B\n",
      "\n",
      "If you make use of any spectra or models in this toolkit, please remember to cite the original source.\n",
      "Please report any errors are feature requests to our github page, https://github.com/aburgasser/splat/\n",
      "\n",
      "\n"
     ]
    }
   ],
   "source": [
    "\n",
    "import numpy as np\n",
    "from astropy.io import fits, ascii\n",
    "from astropy.table import Table\n",
    "import pandas as pd\n",
    "import matplotlib.pyplot as plt\n",
    "import glob\n",
    "import splat\n",
    "from popsims.relations import polynomial_relation\n",
    "from splat.photometry import filterMag\n",
    "import splat.empirical as spe\n",
    "from tqdm import tqdm\n",
    "import popsims\n",
    "from popsims.plot_style import  plot_style\n",
    "from astropy.coordinates import SkyCoord, Galactic\n",
    "import astropy.units as u\n",
    "from matplotlib.lines import Line2D\n",
    "plot_style()\n",
    "%matplotlib inline"
   ]
  },
  {
   "cell_type": "code",
   "execution_count": 7,
   "id": "11a40203",
   "metadata": {},
   "outputs": [],
   "source": [
    "SURVEY_AREAS= {\n",
    "       'Roman HLWAS': 2_000*u.degree**2,\n",
    "       'Roman HLTDS': 20*u.degree**2 ,\n",
    "}\n",
    "\n",
    "#filenames --> redo with grisms and right exposur times\n",
    "FILENAMES={'Roman HLWAS':'roman_hlwas',  'Roman HLTDS': 'roman_hltds'}\n",
    "\n",
    "#add additional selection\n",
    "SURVEY_DEPTHS= {\n",
    "       'Roman HLWAS': {'WFI_J129': 26.7},\n",
    "       'Roman HLTDS': {'WFI_J129': 26.7},\n",
    "}\n",
    "\n",
    "\n",
    "linestyles={'thin disk': '-', 'thick disk': '-.', 'halo': 'dotted'}\n",
    "scl={'thin disk': 1, 'thick disk': 0.12, 'halo':0.005}\n",
    "\n",
    "\n",
    "selection0=\"WFI_Z087 < 27.0 and WFI_Y106 < 27.0 and WFI_J129 < 27\"\n",
    "proper_motion_cuts= 'proper_motion > 5e-3'\n",
    "\n",
    "selection= selection0+'and '+ proper_motion_cuts\n"
   ]
  },
  {
   "cell_type": "code",
   "execution_count": 8,
   "id": "29da3208",
   "metadata": {},
   "outputs": [],
   "source": [
    "def compute_vols_and_numbers(data, population, area, selection=None):\n",
    "    counts={}\n",
    "    selection_function={}\n",
    "    pointings=list(data['volume'][population][0].keys())\n",
    "    drho=(area/len(data['footprint'])).to(u.radian**2)\n",
    "    sptgrid=data['sptgrid']\n",
    "    \n",
    "    for idx, spt in enumerate(sptgrid):\n",
    "        #compute selection correction by pointing\n",
    "        n=0.0\n",
    "        slfx={}\n",
    "        for p in pointings:\n",
    "            #compute simulated number of types\n",
    "            select='spt >{} and spt < {}'.format(spt, spt+0.9)\n",
    "            \n",
    "            #compute local density (only depends on type)\n",
    "            lcdens=(df.scale*len(df.query(select))).mean()\n",
    "            \n",
    "            #select on pointing\n",
    "            #print (p)\n",
    "            select= select+'and '+'pointing == {}'.format(p)\n",
    "            nsim=len(df.query(select))\n",
    "            \n",
    "            #add additional_selection\n",
    "            if selection is not None:\n",
    "                select = select+'and '+ selection\n",
    "                \n",
    "            nselected= len(df.query(select))\n",
    "            #compute total selection function\n",
    "            \n",
    "            tot_selection=(nselected/nsim)\n",
    "            v=data['volume'][population][idx][p]*tot_selection*lcdens*drho\n",
    "            \n",
    "            n += v.value\n",
    "            slfx.update({p: tot_selection})\n",
    "            \n",
    "    \n",
    "        counts.update({spt: {'number':n}})\n",
    "        selection_function.update({spt: slfx})\n",
    "        \n",
    "    fn=pd.DataFrame.from_records(counts).T\n",
    "    fn['spt']=sptgrid\n",
    "    return fn, selection_function\n"
   ]
  },
  {
   "cell_type": "code",
   "execution_count": 9,
   "id": "83327980",
   "metadata": {},
   "outputs": [],
   "source": [
    "data_dicts={}\n",
    "for k in FILENAMES.keys():\n",
    "    data=np.array(np.load('../simulations{}.npy'.format(FILENAMES[k]),allow_pickle=True)).flatten()[0]\n",
    "    #compute \n",
    "    df=data['data']\n",
    "    df['proper_motion']=(df.mu_delta**2+df.mu_alpha_cosdec**2)**0.5 #proper motion in mas/yr\n",
    "    df['parallax']= 1000/df.distance\n",
    "    data['data']=df\n",
    "    data_dicts[k]= data\n",
    "    \n"
   ]
  },
  {
   "cell_type": "code",
   "execution_count": null,
   "id": "ed9b6d92",
   "metadata": {},
   "outputs": [],
   "source": []
  },
  {
   "cell_type": "code",
   "execution_count": 10,
   "id": "e84c79e2",
   "metadata": {},
   "outputs": [
    {
     "ename": "NameError",
     "evalue": "name 'selection10year' is not defined",
     "output_type": "error",
     "traceback": [
      "\u001b[0;31m---------------------------------------------------------------------------\u001b[0m",
      "\u001b[0;31mNameError\u001b[0m                                 Traceback (most recent call last)",
      "\u001b[0;32m/var/folders/p5/jqfspzln0z965dsfd1pj_5900000gp/T/ipykernel_9108/4141086483.py\u001b[0m in \u001b[0;36m<module>\u001b[0;34m\u001b[0m\n\u001b[1;32m     12\u001b[0m     \u001b[0mf\u001b[0m\u001b[0;34m=\u001b[0m \u001b[0mscl\u001b[0m\u001b[0;34m[\u001b[0m\u001b[0mpop\u001b[0m\u001b[0;34m]\u001b[0m\u001b[0;34m\u001b[0m\u001b[0;34m\u001b[0m\u001b[0m\n\u001b[1;32m     13\u001b[0m     \u001b[0mns\u001b[0m\u001b[0;34m=\u001b[0m\u001b[0mcompute_vols_and_numbers\u001b[0m\u001b[0;34m(\u001b[0m\u001b[0mdata\u001b[0m\u001b[0;34m,\u001b[0m \u001b[0mpop\u001b[0m\u001b[0;34m,\u001b[0m \u001b[0mSURVEY_AREAS\u001b[0m\u001b[0;34m[\u001b[0m\u001b[0msurvey\u001b[0m\u001b[0;34m]\u001b[0m\u001b[0;34m,\u001b[0m\u001b[0mselection\u001b[0m\u001b[0;34m=\u001b[0m\u001b[0mselection0\u001b[0m\u001b[0;34m)\u001b[0m\u001b[0;34m[\u001b[0m\u001b[0;36m0\u001b[0m\u001b[0;34m]\u001b[0m\u001b[0;34m\u001b[0m\u001b[0;34m\u001b[0m\u001b[0m\n\u001b[0;32m---> 14\u001b[0;31m     \u001b[0mns0\u001b[0m\u001b[0;34m=\u001b[0m\u001b[0mcompute_vols_and_numbers\u001b[0m\u001b[0;34m(\u001b[0m\u001b[0mdata\u001b[0m\u001b[0;34m,\u001b[0m\u001b[0mpop\u001b[0m\u001b[0;34m,\u001b[0m \u001b[0mSURVEY_AREAS\u001b[0m\u001b[0;34m[\u001b[0m\u001b[0msurvey\u001b[0m\u001b[0;34m]\u001b[0m\u001b[0;34m,\u001b[0m\u001b[0mselection\u001b[0m\u001b[0;34m=\u001b[0m\u001b[0mselection10year\u001b[0m\u001b[0;34m)\u001b[0m\u001b[0;34m[\u001b[0m\u001b[0;36m0\u001b[0m\u001b[0;34m]\u001b[0m\u001b[0;34m\u001b[0m\u001b[0;34m\u001b[0m\u001b[0m\n\u001b[0m\u001b[1;32m     15\u001b[0m     \u001b[0max\u001b[0m\u001b[0;34m[\u001b[0m\u001b[0;36m1\u001b[0m\u001b[0;34m]\u001b[0m\u001b[0;34m.\u001b[0m\u001b[0mstep\u001b[0m\u001b[0;34m(\u001b[0m\u001b[0mns\u001b[0m\u001b[0;34m.\u001b[0m\u001b[0mspt\u001b[0m\u001b[0;34m,\u001b[0m \u001b[0mf\u001b[0m\u001b[0;34m*\u001b[0m\u001b[0mns\u001b[0m\u001b[0;34m.\u001b[0m\u001b[0mnumber\u001b[0m\u001b[0;34m,\u001b[0m \u001b[0mlinestyle\u001b[0m\u001b[0;34m=\u001b[0m\u001b[0mlinestyles\u001b[0m\u001b[0;34m[\u001b[0m\u001b[0mpop\u001b[0m\u001b[0;34m]\u001b[0m\u001b[0;34m,\u001b[0m \u001b[0mcolor\u001b[0m\u001b[0;34m=\u001b[0m\u001b[0;34m'k'\u001b[0m\u001b[0;34m)\u001b[0m\u001b[0;34m\u001b[0m\u001b[0;34m\u001b[0m\u001b[0m\n\u001b[1;32m     16\u001b[0m     \u001b[0max\u001b[0m\u001b[0;34m[\u001b[0m\u001b[0;36m1\u001b[0m\u001b[0;34m]\u001b[0m\u001b[0;34m.\u001b[0m\u001b[0mstep\u001b[0m\u001b[0;34m(\u001b[0m\u001b[0mns0\u001b[0m\u001b[0;34m.\u001b[0m\u001b[0mspt\u001b[0m\u001b[0;34m,\u001b[0m \u001b[0mf\u001b[0m\u001b[0;34m*\u001b[0m\u001b[0mns0\u001b[0m\u001b[0;34m.\u001b[0m\u001b[0mnumber\u001b[0m\u001b[0;34m,\u001b[0m  \u001b[0mlinestyle\u001b[0m\u001b[0;34m=\u001b[0m\u001b[0mlinestyles\u001b[0m\u001b[0;34m[\u001b[0m\u001b[0mpop\u001b[0m\u001b[0;34m]\u001b[0m\u001b[0;34m,\u001b[0m \u001b[0mcolor\u001b[0m\u001b[0;34m=\u001b[0m\u001b[0;34m'#0074D9'\u001b[0m\u001b[0;34m)\u001b[0m\u001b[0;34m\u001b[0m\u001b[0;34m\u001b[0m\u001b[0m\n",
      "\u001b[0;31mNameError\u001b[0m: name 'selection10year' is not defined"
     ]
    },
    {
     "data": {
      "image/png": "[encoded data removed]",
      "text/plain": [
       "<Figure size 1120x640 with 2 Axes>"
      ]
     },
     "metadata": {},
     "output_type": "display_data"
    }
   ],
   "source": [
    "fig, ax=plt.subplots(ncols=2, figsize=(14, 8))\n",
    "survey='Roman HLWAS'\n",
    "for pop in ['thin disk', 'thick disk', 'halo']:\n",
    "    f= scl[pop]\n",
    "    ns=compute_vols_and_numbers(data, pop, SURVEY_AREAS[survey],selection=selection0)[0]\n",
    "    ns0=compute_vols_and_numbers(data,pop, SURVEY_AREAS[survey], selection=selection)[0]\n",
    "    ax[0].step(ns.spt, f*ns.number, linestyle=linestyles[pop], color='k')\n",
    "    ax[0].step(ns0.spt, f*ns0.number,  linestyle=linestyles[pop], color='#0074D9')\n",
    "\n",
    "survey='Roman HLTDS'\n",
    "for pop in ['thin disk', 'thick disk', 'halo']:\n",
    "    f= scl[pop]\n",
    "    ns=compute_vols_and_numbers(data, pop, SURVEY_AREAS[survey],selection=selection0)[0]\n",
    "    ns0=compute_vols_and_numbers(data,pop, SURVEY_AREAS[survey],selection=selection10year)[0]\n",
    "    ax[1].step(ns.spt, f*ns.number, linestyle=linestyles[pop], color='k')\n",
    "    ax[1].step(ns0.spt, f*ns0.number,  linestyle=linestyles[pop], color='#0074D9')\n",
    "\n",
    "for a in ax:\n",
    "    a.set(xticks=[15,20, 25, 30, 35], xticklabels=['M5', 'L0', 'L5', 'T0', 'T5'],\\\n",
    "          xlim=[14, 40], yscale='log', ylabel='Number Counts')\n",
    "    \n",
    "    legend_elements = [Line2D([0], [0], color='#0074D9', ls='-',lw=2, label='Thin Disk + Selection'),\n",
    "                       Line2D([0], [0], color='#0074D9', ls='-.',lw=2, label='Thick Disk + Selection'),\n",
    "                       Line2D([0], [0], color='#0074D9', ls='dotted',lw=2, label='Halo + Selection'),\n",
    "                       Line2D([0], [0], color='k', ls='-',lw=2, label='Thin Disk'),\n",
    "                       Line2D([0], [0], color='k', ls='-.',lw=2, label='Thick Disk '),\n",
    "                       Line2D([0], [0], color='k', ls='dotted',lw=2, label='Halo ')]\n",
    "\n",
    "    a.legend(handles=legend_elements, loc='upper right', fontsize=14)\n",
    "\n",
    "ax[0].set_title('Roman HLWAS')\n",
    "ax[1].set_title('Roman HLTDS')\n",
    "plt.savefig('../figures/roman_baseline_number.pdf')"
   ]
  },
  {
   "cell_type": "code",
   "execution_count": null,
   "id": "44ba4b2d",
   "metadata": {},
   "outputs": [],
   "source": []
  }
 ],
 "metadata": {
  "kernelspec": {
   "display_name": "Python 3 (ipykernel)",
   "language": "python",
   "name": "python3"
  },
  "language_info": {
   "codemirror_mode": {
    "name": "ipython",
    "version": 3
   },
   "file_extension": ".py",
   "mimetype": "text/x-python",
   "name": "python",
   "nbconvert_exporter": "python",
   "pygments_lexer": "ipython3",
   "version": "3.9.13"
  }
 },
 "nbformat": 4,
 "nbformat_minor": 5
}
