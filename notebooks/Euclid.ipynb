{
 "cells": [
  {
   "cell_type": "code",
   "execution_count": 1,
   "id": "c415d565",
   "metadata": {},
   "outputs": [
    {
     "name": "stdout",
     "output_type": "stream",
     "text": [
      "\n",
      "\n",
      "Welcome to the Spex Prism Library Analysis Toolkit (SPLAT)!\n",
      "If you make use of any features of this toolkit for your research, please remember to cite the SPLAT paper:\n",
      "\n",
      "Burgasser et al. (2017, Astro. Soc. India Conf. Series 14, p. 7); Bibcode: 2017ASInC..14....7B\n",
      "\n",
      "If you make use of any spectra or models in this toolkit, please remember to cite the original source.\n",
      "Please report any errors are feature requests to our github page, https://github.com/aburgasser/splat/\n",
      "\n",
      "\n"
     ]
    }
   ],
   "source": [
    "\n",
    "import numpy as np\n",
    "from astropy.io import fits, ascii\n",
    "from astropy.table import Table\n",
    "import pandas as pd\n",
    "import matplotlib.pyplot as plt\n",
    "import glob\n",
    "import splat\n",
    "from popsims.relations import polynomial_relation\n",
    "from splat.photometry import filterMag\n",
    "import splat.empirical as spe\n",
    "from tqdm import tqdm\n",
    "import popsims\n",
    "from popsims.plot_style import  plot_style\n",
    "from astropy.coordinates import SkyCoord, Galactic\n",
    "import astropy.units as u\n",
    "from matplotlib.lines import Line2D\n",
    "plot_style()\n",
    "%matplotlib inline"
   ]
  },
  {
   "cell_type": "code",
   "execution_count": null,
   "id": "c63488e9",
   "metadata": {},
   "outputs": [],
   "source": [
    "SURVEY_AREAS= {\n",
    "       'Euclid Wide': 2_000*u.degree**2,\n",
    "       'Euclid Deep': 20*u.degree**2 ,\n",
    "}\n",
    "\n",
    "#filenames --> redo with grisms and right exposur times\n",
    "FILENAMES={'Euclid Wide': 'euclid_wide',  'Euclid Deep': 'euclid_deep'}\n",
    "\n",
    "#add additional selection\n",
    "SURVEY_DEPTHS= {\n",
    "    'Euclid Wide': {'EUCLID_J': 24., 'EUCLID_H': 24. },\n",
    "    'Euclid Deep': {'EUCLID_J': 27., 'EUCLID_H': 27. },\n",
    "}\n",
    "\n",
    "\n",
    "linestyles={'thin disk': '-', 'thick disk': '-.', 'halo': 'dotted'}\n",
    "scl={'thin disk': 1, 'thick disk': 0.12, 'halo':0.005}\n",
    "\n",
    "\n",
    "proper_motion_cuts= 'proper_motion > 1 and parallax > 3'\n",
    "selection0=selection0+ 'and '+proper_motion_cuts\n",
    "selection= selection0+'and '+ color_selection \n",
    "selection10year= selection0+'and '+ color_selection \n"
   ]
  }
 ],
 "metadata": {
  "kernelspec": {
   "display_name": "Python 3 (ipykernel)",
   "language": "python",
   "name": "python3"
  },
  "language_info": {
   "codemirror_mode": {
    "name": "ipython",
    "version": 3
   },
   "file_extension": ".py",
   "mimetype": "text/x-python",
   "name": "python",
   "nbconvert_exporter": "python",
   "pygments_lexer": "ipython3",
   "version": "3.9.13"
  }
 },
 "nbformat": 4,
 "nbformat_minor": 5
}
