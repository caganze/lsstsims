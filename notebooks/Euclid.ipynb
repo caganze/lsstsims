{
 "cells": [
  {
   "cell_type": "code",
   "execution_count": 1,
   "id": "c415d565",
   "metadata": {},
   "outputs": [
    {
     "name": "stdout",
     "output_type": "stream",
     "text": [
      "\n",
      "\n",
      "Welcome to the Spex Prism Library Analysis Toolkit (SPLAT)!\n",
      "If you make use of any features of this toolkit for your research, please remember to cite the SPLAT paper:\n",
      "\n",
      "Burgasser et al. (2017, Astro. Soc. India Conf. Series 14, p. 7); Bibcode: 2017ASInC..14....7B\n",
      "\n",
      "If you make use of any spectra or models in this toolkit, please remember to cite the original source.\n",
      "Please report any errors are feature requests to our github page, https://github.com/aburgasser/splat/\n",
      "\n",
      "\n"
     ]
    }
   ],
   "source": [
    "\n",
    "import numpy as np\n",
    "from astropy.io import fits, ascii\n",
    "from astropy.table import Table\n",
    "import pandas as pd\n",
    "import matplotlib.pyplot as plt\n",
    "import glob\n",
    "import splat\n",
    "from popsims.relations import polynomial_relation\n",
    "from splat.photometry import filterMag\n",
    "import splat.empirical as spe\n",
    "from tqdm import tqdm\n",
    "import popsims\n",
    "from popsims.plot_style import  plot_style\n",
    "from astropy.coordinates import SkyCoord, Galactic\n",
    "import astropy.units as u\n",
    "from matplotlib.lines import Line2D\n",
    "plot_style()\n",
    "%matplotlib inline"
   ]
  },
  {
   "cell_type": "code",
   "execution_count": 39,
   "id": "c63488e9",
   "metadata": {},
   "outputs": [],
   "source": [
    "SURVEY_AREAS= {\n",
    "       'Euclid Wide': 2_000*u.degree**2,\n",
    "       'Euclid Deep': 20*u.degree**2 ,\n",
    "}\n",
    "\n",
    "#filenames --> redo with grisms and right exposur times\n",
    "FILENAMES={'Euclid Wide': 'euclid_wide',  'Euclid Deep': 'euclid_deep'}\n",
    "\n",
    "#add additional selection\n",
    "SURVEY_DEPTHS= {\n",
    "    'Euclid Wide': {'EUCLID_J': 24. },\n",
    "    'Euclid Deep': {'EUCLID_J': 27.},\n",
    "}\n",
    "\n",
    "\n",
    "linestyles={'thin disk': '-', 'thick disk': '-.', 'halo': 'dotted'}\n",
    "scl={'thin disk': 1, 'thick disk': 0.12, 'halo':0.005}\n",
    "\n",
    "selection0=\"EUCLID_J < 24.0 and EUCLID_H <24\"\n",
    "selection1=\"EUCLID_J < 27.0 and EUCLID_H <27\"\n",
    "\n",
    "#proper_motion_cuts= 'proper_motion > 1e-3'\n",
    "\n",
    "#selection= selection0+'and '+ proper_motion_cuts\n"
   ]
  },
  {
   "cell_type": "code",
   "execution_count": 40,
   "id": "6742f785",
   "metadata": {},
   "outputs": [],
   "source": [
    "def compute_vols_and_numbers(data, population, area, selection=None):\n",
    "    counts={}\n",
    "    selection_function={}\n",
    "    pointings=list(data['volume'][population][0].keys())\n",
    "    drho=(area/len(data['footprint'])).to(u.radian**2)\n",
    "    sptgrid=data['sptgrid']\n",
    "    \n",
    "    for idx, spt in enumerate(sptgrid):\n",
    "        #compute selection correction by pointing\n",
    "        n=0.0\n",
    "        slfx={}\n",
    "        for p in pointings:\n",
    "            #compute simulated number of types\n",
    "            select='spt >{} and spt < {}'.format(spt, spt+0.9)\n",
    "            \n",
    "            #compute local density (only depends on type)\n",
    "            lcdens=(df.scale*len(df.query(select))).mean()\n",
    "            \n",
    "            #select on pointing\n",
    "            #print (p)\n",
    "            select= select+'and '+'pointing == {}'.format(p)\n",
    "            nsim=len(df.query(select))\n",
    "            \n",
    "            #add additional_selection\n",
    "            if selection is not None:\n",
    "                select = select+'and '+ selection\n",
    "                \n",
    "            nselected= len(df.query(select))\n",
    "            #compute total selection function\n",
    "            \n",
    "            tot_selection=(nselected/nsim)\n",
    "            v=data['volume'][population][idx][p]*tot_selection*lcdens*drho\n",
    "            \n",
    "            n += v.value\n",
    "            slfx.update({p: tot_selection})\n",
    "            \n",
    "    \n",
    "        counts.update({spt: {'number':n}})\n",
    "        selection_function.update({spt: slfx})\n",
    "        \n",
    "    fn=pd.DataFrame.from_records(counts).T\n",
    "    fn['spt']=sptgrid\n",
    "    return fn, selection_function\n"
   ]
  },
  {
   "cell_type": "code",
   "execution_count": 41,
   "id": "ce695031",
   "metadata": {},
   "outputs": [],
   "source": [
    "data_dicts={}\n",
    "for k in FILENAMES.keys():\n",
    "    data=np.array(np.load('../simulations{}.npy'.format(FILENAMES[k]),allow_pickle=True)).flatten()[0]\n",
    "    #compute \n",
    "    df=data['data']\n",
    "    df['proper_motion']=(df.mu_delta**2+df.mu_alpha_cosdec**2)**0.5 #proper motion in mas/yr\n",
    "    df['parallax']= 1000/df.distance\n",
    "    data['data']=df\n",
    "    data_dicts[k]= data\n",
    "    "
   ]
  },
  {
   "cell_type": "code",
   "execution_count": 42,
   "id": "2a67b23c",
   "metadata": {},
   "outputs": [
    {
     "data": {
      "image/png": "[encoded data removed]",
      "text/plain": [
       "<Figure size 640x480 with 1 Axes>"
      ]
     },
     "metadata": {},
     "output_type": "display_data"
    }
   ],
   "source": [
    "fig, ax=plt.subplots()\n",
    "survey='Euclid Wide'\n",
    "for pop in ['thin disk', 'thick disk', 'halo']:\n",
    "    f= scl[pop]\n",
    "    ns=compute_vols_and_numbers(data, pop, SURVEY_AREAS[survey], selection=selection0)[0]\n",
    "    #ns0=compute_vols_and_numbers(data,pop,  SURVEY_AREAS[survey], selection=selection)[0]\n",
    "    ax.step(ns.spt, f*ns.number, linestyle=linestyles[pop], color='k', label='{} {}'.format(survey, pop))\n",
    "    #ax[0].step(ns0.spt, f*ns0.number,  linestyle=linestyles[pop], color='#0074D9')\n",
    "\n",
    "#survey='Euclid Deep'\n",
    "#for pop in ['thin disk', 'thick disk', 'halo']:\n",
    "#    f= scl[pop]\n",
    "#    ns=compute_vols_and_numbers(data, pop, SURVEY_AREAS[survey],  selection=selection1)[0]\n",
    "    #ns0=compute_vols_and_numbers(data,pop, SURVEY_AREAS[survey],  selection=selection10year)[0]\n",
    "#ax.step(ns.spt, f*ns.number, linestyle=linestyles[pop], color='#0074D9')\n",
    "    #ax[1].step(ns0.spt, f*ns0.number,  linestyle=linestyles[pop], color='#0074D9')\n",
    "\n",
    "#ax.legend(handles=legend_elements, loc='upper right', fontsize=14)\n",
    "ax.legend()\n",
    "ax.set(xticks=[15,20, 25, 30, 35], xticklabels=['M5', 'L0', 'L5', 'T0', 'T5'],\\\n",
    "          xlim=[14, 40], yscale='log', ylabel='Number Counts')\n",
    "\n",
    "plt.savefig('../figures/euclid_baseline_number.pdf')"
   ]
  },
  {
   "cell_type": "code",
   "execution_count": 43,
   "id": "67424de7",
   "metadata": {},
   "outputs": [],
   "source": [
    "ns=compute_vols_and_numbers(data, pop, SURVEY_AREAS[survey], selection=selection0)"
   ]
  },
  {
   "cell_type": "code",
   "execution_count": 50,
   "id": "96253ae2",
   "metadata": {},
   "outputs": [
    {
     "data": {
      "text/plain": [
       "<matplotlib.collections.PathCollection at 0x7fc640a21d00>"
      ]
     },
     "execution_count": 50,
     "metadata": {},
     "output_type": "execute_result"
    },
    {
     "data": {
      "image/png": "[encoded data removed]",
      "text/plain": [
       "<Figure size 640x480 with 1 Axes>"
      ]
     },
     "metadata": {},
     "output_type": "display_data"
    }
   ],
   "source": [
    "fig, ax=plt.subplots()\n",
    "ax.scatter((df.l.values*u.radian).to(u.degree), (df.b.values*u.radian).to(u.degree))"
   ]
  },
  {
   "cell_type": "code",
   "execution_count": 52,
   "id": "95b5465b",
   "metadata": {},
   "outputs": [
    {
     "data": {
      "text/plain": [
       "<SkyCoord (ICRS): (ra, dec) in deg\n",
       "    [(189.22, 62.2375)]>"
      ]
     },
     "execution_count": 52,
     "metadata": {},
     "output_type": "execute_result"
    }
   ],
   "source": [
    "data['footprint']"
   ]
  },
  {
   "cell_type": "code",
   "execution_count": null,
   "id": "c6727199",
   "metadata": {},
   "outputs": [],
   "source": []
  }
 ],
 "metadata": {
  "kernelspec": {
   "display_name": "Python 3 (ipykernel)",
   "language": "python",
   "name": "python3"
  },
  "language_info": {
   "codemirror_mode": {
    "name": "ipython",
    "version": 3
   },
   "file_extension": ".py",
   "mimetype": "text/x-python",
   "name": "python",
   "nbconvert_exporter": "python",
   "pygments_lexer": "ipython3",
   "version": "3.9.13"
  }
 },
 "nbformat": 4,
 "nbformat_minor": 5
}
