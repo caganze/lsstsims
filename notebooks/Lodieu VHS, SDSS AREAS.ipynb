{
 "cells": [
  {
   "cell_type": "code",
   "execution_count": null,
   "metadata": {},
   "outputs": [],
   "source": [
    "#test the model class on JSWT simulations \n",
    "import numpy as np\n",
    "import pandas as pd\n",
    "#import splat\n",
    "#import popsims\n",
    "from astropy.coordinates import SkyCoord, Galactic\n",
    "#from popsims.galaxy import Pointing, volume_calc, create_pop\n",
    "import matplotlib.pyplot as plt\n",
    "import seaborn as sns\n",
    "import scipy\n",
    "#sns.set_style(\"darkgrid\", {\"axes.facecolor\": \".95\"})\n",
    "\n",
    "#plt.style.use('fivethirtyeight')\n",
    "#plt.style.use('dark_background')\n",
    "\n",
    "from  matplotlib.colors import Normalize\n",
    "import astropy.units as u\n",
    "import popsims\n",
    "import matplotlib\n",
    "from tqdm import tqdm\n",
    "from tqdm import tqdm\n",
    "import matplotlib as mpl \n",
    "\n",
    "\n",
    "from popsims.simulator import Population\n",
    "from popsims.galaxy import Disk, Halo\n",
    "from popsims.relations import polynomial_relation\n",
    "import splat.empirical as spe\n",
    "import warnings\n",
    "warnings.filterwarnings(\"ignore\")"
   ]
  },
  {
   "cell_type": "code",
   "execution_count": null,
   "metadata": {},
   "outputs": [],
   "source": [
    "\n",
    "\n",
    "\n",
    "\n",
    "fig, ax=plt.subplots(ncols=2, figsize=(14, 4))\n",
    "ax[0].scatter(ra.to(u.degree)[mask_ukidss_sdss].value, dec.to(u.degree)[mask_ukidss_sdss], s=1, alpha=0.1)\n",
    "\n",
    "ax[1].scatter(ra.to(u.degree)[mask_vhs_sdss].value, dec.to(u.degree)[mask_vhs_sdss], s=1, alpha=0.1)\n"
   ]
  },
  {
   "cell_type": "code",
   "execution_count": null,
   "metadata": {},
   "outputs": [],
   "source": [
    "t=pd.DataFrame()\n",
    "t['RA']=ra.to(u.degree)[mask_vhs_sdss].value+180\n",
    "t['Dec']=dec.to(u.degree)[mask_vhs_sdss].value\n",
    "t.to_csv('/users/caganze/vhs_sdss_points.csv')\n",
    "\n",
    "t=pd.DataFrame()\n",
    "t['RA']=ra.to(u.degree)[mask_ukidss_sdss].value+180\n",
    "t['Dec']=dec.to(u.degree)[mask_ukidss_sdss].value\n",
    "t.to_csv('/users/caganze/ukidss_sdss_points.csv')"
   ]
  },
  {
   "cell_type": "code",
   "execution_count": null,
   "metadata": {},
   "outputs": [],
   "source": [
    "#look at crossmatches \n",
    "from astropy.io import ascii\n",
    "t1=ascii.read('/users/caganze/ukidss_sdss_crossmatch.csv').to_pandas()\n",
    "t2=ascii.read('/users/caganze/vhs_sdss_crossmatch.csv').to_pandas()\n",
    "t3=ascii.read('/users/caganze/vhs_ps1_crossmatch.csv').to_pandas()"
   ]
  },
  {
   "cell_type": "code",
   "execution_count": null,
   "metadata": {},
   "outputs": [],
   "source": [
    "t1.columns"
   ]
  },
  {
   "cell_type": "code",
   "execution_count": null,
   "metadata": {},
   "outputs": [],
   "source": []
  },
  {
   "cell_type": "code",
   "execution_count": null,
   "metadata": {},
   "outputs": [],
   "source": []
  },
  {
   "cell_type": "code",
   "execution_count": null,
   "metadata": {},
   "outputs": [],
   "source": []
  },
  {
   "cell_type": "code",
   "execution_count": null,
   "metadata": {},
   "outputs": [],
   "source": []
  },
  {
   "cell_type": "code",
   "execution_count": null,
   "metadata": {},
   "outputs": [],
   "source": []
  },
  {
   "cell_type": "code",
   "execution_count": null,
   "metadata": {},
   "outputs": [],
   "source": []
  }
 ],
 "metadata": {
  "kernelspec": {
   "display_name": "Python 3 (ipykernel)",
   "language": "python",
   "name": "python3"
  },
  "language_info": {
   "codemirror_mode": {
    "name": "ipython",
    "version": 3
   },
   "file_extension": ".py",
   "mimetype": "text/x-python",
   "name": "python",
   "nbconvert_exporter": "python",
   "pygments_lexer": "ipython3",
   "version": "3.9.13"
  }
 },
 "nbformat": 4,
 "nbformat_minor": 4
}
