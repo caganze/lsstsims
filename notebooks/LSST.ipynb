{
 "cells": [
  {
   "cell_type": "code",
   "execution_count": 1,
   "id": "19aa0100",
   "metadata": {},
   "outputs": [
    {
     "name": "stdout",
     "output_type": "stream",
     "text": [
      "\n",
      "\n",
      "Welcome to the Spex Prism Library Analysis Toolkit (SPLAT)!\n",
      "If you make use of any features of this toolkit for your research, please remember to cite the SPLAT paper:\n",
      "\n",
      "Burgasser et al. (2017, Astro. Soc. India Conf. Series 14, p. 7); Bibcode: 2017ASInC..14....7B\n",
      "\n",
      "If you make use of any spectra or models in this toolkit, please remember to cite the original source.\n",
      "Please report any errors are feature requests to our github page, https://github.com/aburgasser/splat/\n",
      "\n",
      "\n"
     ]
    }
   ],
   "source": [
    "\n",
    "import numpy as np\n",
    "from astropy.io import fits, ascii\n",
    "from astropy.table import Table\n",
    "import pandas as pd\n",
    "import matplotlib.pyplot as plt\n",
    "import glob\n",
    "import splat\n",
    "from popsims.relations import polynomial_relation\n",
    "from splat.photometry import filterMag\n",
    "import splat.empirical as spe\n",
    "from tqdm import tqdm\n",
    "import popsims\n",
    "from popsims.plot_style import  plot_style\n",
    "from astropy.coordinates import SkyCoord, Galactic\n",
    "import astropy.units as u\n",
    "from matplotlib.lines import Line2D\n",
    "plot_style()\n",
    "%matplotlib inline\n"
   ]
  },
  {
   "cell_type": "code",
   "execution_count": 8,
   "id": "b69b50a3",
   "metadata": {},
   "outputs": [],
   "source": [
    "AREA=18_000*u.degree**2\n",
    "\n",
    "#filenames\n",
    "FILENAMES={'Rubin Wide': 'rubin_wide',  'Rubin 10 year': 'rubin_10year'}\n",
    "\n",
    "#add additional selection\n",
    "SURVEY_DEPTHS= {\n",
    "       'Rubin Wide': {'LSST_G': 25., 'LSST_R': 24.7, 'LSST_I': 24.0, 'LSST_Z': 23.3, 'LSST_Y': 22.1}, \n",
    "       'Rubin 10 year': {'LSST_G': 25.3, 'LSST_R': 25.6, 'LSST_I': 25.4, 'LSST_Z': 24.9, 'LSST_Y': 24.}, \n",
    "}\n",
    "\n",
    "linestyles={'thin disk': '-', 'thick disk': '-.', 'halo': 'dotted'}\n",
    "scl={'thin disk': 1, 'thick disk': 0.12, 'halo':0.005}\n",
    "\n",
    "\n",
    "selection0=\"LSST_G < 25.0 and LSST_R < 24.7 and LSST_I< 24.0 and LSST_Z < 23.3 and LSST_Y < 22.1\"\n",
    "color_selection=\"rz>2 and gz>2 and zy >1\"\n",
    "proper_motion_cuts= 'proper_motion > 1 and parallax > 3'\n",
    "selection0=selection0+ 'and '+proper_motion_cuts\n",
    "selection= selection0+'and '+ color_selection \n",
    "selection10year= selection0+'and '+ color_selection \n"
   ]
  },
  {
   "cell_type": "code",
   "execution_count": null,
   "id": "1f3523fb",
   "metadata": {},
   "outputs": [],
   "source": []
  },
  {
   "cell_type": "code",
   "execution_count": 20,
   "id": "16bcc1df",
   "metadata": {},
   "outputs": [],
   "source": [
    "def compute_vols_and_numbers(data, population, selection=None):\n",
    "    counts={}\n",
    "    selection_function={}\n",
    "    pointings=list(data['volume'][population][0].keys())\n",
    "    drho=(AREA/len(data['footprint'])).to(u.radian**2)\n",
    "    sptgrid=data['sptgrid']\n",
    "    \n",
    "    for idx, spt in enumerate(sptgrid):\n",
    "        #compute selection correction by pointing\n",
    "        n=0.0\n",
    "        slfx={}\n",
    "        for p in pointings:\n",
    "            #compute simulated number of types\n",
    "            select='spt >{} and spt < {}'.format(spt, spt+0.9)\n",
    "            \n",
    "            #compute local density (only depends on type)\n",
    "            lcdens=(df.scale*len(df.query(select))).mean()\n",
    "            \n",
    "            #select on pointing\n",
    "            #print (p)\n",
    "            select= select+'and '+'pointing == {}'.format(p)\n",
    "            nsim=df.query(select)\n",
    "            \n",
    "            #add additional_selection\n",
    "            if selection is not None:\n",
    "                select = select+'and '+ selection\n",
    "                \n",
    "            nselected= df.query(select)\n",
    "            #compute total selection function\n",
    "            \n",
    "            tot_selection=(nselected/nsim)\n",
    "            v=data['volume'][population][idx][p]*tot_selection*lcdens*drho\n",
    "            \n",
    "            n += v.value\n",
    "            slfx.update({p: tot_selection})\n",
    "            \n",
    "    \n",
    "        counts.update({spt: {'number':n}})\n",
    "        selection_function.update({spt: slfx})\n",
    "        \n",
    "    fn=pd.DataFrame.from_records(counts).T\n",
    "    fn['spt']=sptgrid\n",
    "    return fn, selection_function\n"
   ]
  },
  {
   "cell_type": "code",
   "execution_count": 10,
   "id": "ba2aea59",
   "metadata": {},
   "outputs": [],
   "source": [
    "data_dicts={}\n",
    "for k in FILENAMES.keys():\n",
    "    data=np.array(np.load('../simulations{}.npy'.format(FILENAMES[k]),allow_pickle=True)).flatten()[0]\n",
    "    #compute \n",
    "    df=data['data']\n",
    "    df['gr']= df.LSST_G-df.LSST_R\n",
    "    df['ri']= df.LSST_R-df.LSST_I\n",
    "    df['rz']= df.LSST_R-df.LSST_Z\n",
    "    df['iz']= df.LSST_I-df.LSST_Z\n",
    "    df['gz']= df.LSST_G-df.LSST_Z\n",
    "    df['zy']= df.LSST_Z-df.LSST_Y\n",
    "    df['proper_motion']=(df.mu_delta**2+df.mu_alpha_cosdec**2)**0.5 #proper motion in mas/yr\n",
    "    df['parallax']= 1000/df.distance\n",
    "    data['data']=df\n",
    "    data_dicts[k]= data\n",
    "    \n"
   ]
  },
  {
   "cell_type": "code",
   "execution_count": 19,
   "id": "9fd7690e",
   "metadata": {},
   "outputs": [
    {
     "name": "stdout",
     "output_type": "stream",
     "text": [
      "-5828819212433275655\n"
     ]
    },
    {
     "ename": "SyntaxError",
     "evalue": "Python keyword not valid identifier in numexpr query (<unknown>, line 1)",
     "output_type": "error",
     "traceback": [
      "Traceback \u001b[0;36m(most recent call last)\u001b[0m:\n",
      "  File \u001b[1;32m\"/Users/caganze/opt/anaconda3/lib/python3.9/site-packages/IPython/core/interactiveshell.py\"\u001b[0m, line \u001b[1;32m3457\u001b[0m, in \u001b[1;35mrun_code\u001b[0m\n    exec(code_obj, self.user_global_ns, self.user_ns)\n",
      "  File \u001b[1;32m\"/var/folders/p5/jqfspzln0z965dsfd1pj_5900000gp/T/ipykernel_7072/77671732.py\"\u001b[0m, line \u001b[1;32m5\u001b[0m, in \u001b[1;35m<module>\u001b[0m\n    ns=compute_vols_and_numbers(data, pop, selection=selection0)[0]\n",
      "  File \u001b[1;32m\"/var/folders/p5/jqfspzln0z965dsfd1pj_5900000gp/T/ipykernel_7072/1683439690.py\"\u001b[0m, line \u001b[1;32m22\u001b[0m, in \u001b[1;35mcompute_vols_and_numbers\u001b[0m\n    nsim=df.query(select)\n",
      "  File \u001b[1;32m\"/Users/caganze/opt/anaconda3/lib/python3.9/site-packages/pandas/core/frame.py\"\u001b[0m, line \u001b[1;32m4111\u001b[0m, in \u001b[1;35mquery\u001b[0m\n    res = self.eval(expr, **kwargs)\n",
      "  File \u001b[1;32m\"/Users/caganze/opt/anaconda3/lib/python3.9/site-packages/pandas/core/frame.py\"\u001b[0m, line \u001b[1;32m4240\u001b[0m, in \u001b[1;35meval\u001b[0m\n    return _eval(expr, inplace=inplace, **kwargs)\n",
      "  File \u001b[1;32m\"/Users/caganze/opt/anaconda3/lib/python3.9/site-packages/pandas/core/computation/eval.py\"\u001b[0m, line \u001b[1;32m351\u001b[0m, in \u001b[1;35meval\u001b[0m\n    parsed_expr = Expr(expr, engine=engine, parser=parser, env=env)\n",
      "  File \u001b[1;32m\"/Users/caganze/opt/anaconda3/lib/python3.9/site-packages/pandas/core/computation/expr.py\"\u001b[0m, line \u001b[1;32m811\u001b[0m, in \u001b[1;35m__init__\u001b[0m\n    self.terms = self.parse()\n",
      "  File \u001b[1;32m\"/Users/caganze/opt/anaconda3/lib/python3.9/site-packages/pandas/core/computation/expr.py\"\u001b[0m, line \u001b[1;32m830\u001b[0m, in \u001b[1;35mparse\u001b[0m\n    return self._visitor.visit(self.expr)\n",
      "  File \u001b[1;32m\"/Users/caganze/opt/anaconda3/lib/python3.9/site-packages/pandas/core/computation/expr.py\"\u001b[0m, line \u001b[1;32m411\u001b[0m, in \u001b[1;35mvisit\u001b[0m\n    raise e\n",
      "  File \u001b[1;32m\"/Users/caganze/opt/anaconda3/lib/python3.9/site-packages/pandas/core/computation/expr.py\"\u001b[0m, line \u001b[1;32m407\u001b[0m, in \u001b[1;35mvisit\u001b[0m\n    node = ast.fix_missing_locations(ast.parse(clean))\n",
      "\u001b[0;36m  File \u001b[0;32m\"/Users/caganze/opt/anaconda3/lib/python3.9/ast.py\"\u001b[0;36m, line \u001b[0;32m50\u001b[0;36m, in \u001b[0;35mparse\u001b[0;36m\u001b[0m\n\u001b[0;31m    return compile(source, filename, mode, flags,\u001b[0m\n",
      "\u001b[0;36m  File \u001b[0;32m\"<unknown>\"\u001b[0;36m, line \u001b[0;32m1\u001b[0m\n\u001b[0;31m    spt >14 and spt <14.9 and pointing ==\u001b[0m\n\u001b[0m                                         ^\u001b[0m\n\u001b[0;31mSyntaxError\u001b[0m\u001b[0;31m:\u001b[0m Python keyword not valid identifier in numexpr query\n"
     ]
    },
    {
     "data": {
      "image/png": "[encoded data removed]",
      "text/plain": [
       "<Figure size 1120x480 with 2 Axes>"
      ]
     },
     "metadata": {},
     "output_type": "display_data"
    }
   ],
   "source": [
    "fig, ax=plt.subplots(ncols=2, figsize=(14, 6))\n",
    "survey='Rubin Wide'\n",
    "for pop in ['thin disk', 'thick disk', 'halo']:\n",
    "    f= scl[pop]\n",
    "    ns=compute_vols_and_numbers(data, pop, selection=selection0)[0]\n",
    "    ns0=compute_vols_and_numbers(data,pop, selection=selection)[0]\n",
    "    ax[0].step(ns.spt, f*ns.number, linestyle=linestyles[pop], color='k')\n",
    "    ax[0].step(ns0.spt, f*ns0.number,  linestyle=linestyles[pop], color='#0074D9')\n",
    "\n",
    "survey='Rubin 10 year'\n",
    "for pop in ['thin disk', 'thick disk', 'halo']:\n",
    "    f= scl[pop]\n",
    "    ns=compute_vols_and_numbers(data, pop, selection=selection0)[0]\n",
    "    ns0=compute_vols_and_numbers(data,pop, selection=selection10year)[0]\n",
    "    ax[1].step(ns.spt, f*ns.number, linestyle=linestyles[pop], color='k')\n",
    "    ax[1].step(ns0.spt, f*ns0.number,  linestyle=linestyles[pop], color='#0074D9')\n",
    "\n",
    "for a in ax:\n",
    "    a.set(xticks=[15,20, 25, 30, 35], xticklabels=['M5', 'L0', 'L5', 'T0', 'T5'],\\\n",
    "          xlim=[14, 40], yscale='log', ylabel='Number Counts')\n",
    "    \n",
    "    legend_elements = [Line2D([0], [0], color='#0074D9', ls='-',lw=2, label='Thin Disk + Color Selection'),\n",
    "                       Line2D([0], [0], color='#0074D9', ls='-.',lw=2, label='Thick Disk + Color Selection'),\n",
    "                       Line2D([0], [0], color='#0074D9', ls='dotted',lw=2, label='Halo + Color Selection'),\n",
    "                       Line2D([0], [0], color='k', ls='-',lw=2, label='Thin Disk '),\n",
    "                       Line2D([0], [0], color='k', ls='-.',lw=2, label='Thick Disk '),\n",
    "                       Line2D([0], [0], color='k', ls='dotted',lw=2, label='Halo ')]\n",
    "\n",
    "    a.legend(handles=legend_elements, loc='upper right', fontsize=14)\n",
    "\n",
    "ax[0].set_title('Baseline Survey')\n",
    "ax[1].set_title('10 Year Survey')\n",
    "plt.savefig('../figures/lsst_baseline_number.pdf')"
   ]
  },
  {
   "cell_type": "code",
   "execution_count": 12,
   "id": "102e47a5",
   "metadata": {},
   "outputs": [],
   "source": [
    "#now do scaleheights"
   ]
  },
  {
   "cell_type": "code",
   "execution_count": 13,
   "id": "912dc6a9",
   "metadata": {},
   "outputs": [],
   "source": [
    "#now do IMF "
   ]
  }
 ],
 "metadata": {
  "kernelspec": {
   "display_name": "Python 3 (ipykernel)",
   "language": "python",
   "name": "python3"
  },
  "language_info": {
   "codemirror_mode": {
    "name": "ipython",
    "version": 3
   },
   "file_extension": ".py",
   "mimetype": "text/x-python",
   "name": "python",
   "nbconvert_exporter": "python",
   "pygments_lexer": "ipython3",
   "version": "3.9.13"
  }
 },
 "nbformat": 4,
 "nbformat_minor": 5
}
